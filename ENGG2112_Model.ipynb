{
 "cells": [
  {
   "cell_type": "markdown",
   "metadata": {},
   "source": [
    "Changelog: Please enter your name, the date, and a quick summary of any changes made\n",
    "\n",
    "Ben Acuna : 30.4.2025 : Initial set-up and Dataset 1 Preprocessing"
   ]
  },
  {
   "cell_type": "code",
   "execution_count": null,
   "metadata": {},
   "outputs": [],
   "source": [
    "#Data import and processing\n",
    "import numpy as np\n",
    "import pandas as pd\n",
    "\n",
    "#not sure if we want to scale features at this point?\n",
    "#from sklearn.preprocessing import StandardScaler\n",
    "\n",
    "##Dataset 1: India Agriculture Crop Production\n",
    "df1 = pd.read_csv('India Agriculture Crop Production.csv')\n",
    "df1 = df1.dropna()\n",
    "\n",
    "X1 = df1.drop(['Yield', 'Production', 'Production Units', 'Area Units'], axis = 1)\n",
    "Y1 = df1['Yield']\n",
    "\n",
    "#One-Hot-Encoding Dataset 1\n",
    "categorical_features1 = X1.select_dtypes(include=['object', 'category']).columns.tolist()\n",
    "numerical_features1 = X1.select_dtypes(exclude=['object', 'category']).columns.tolist()\n",
    "\n",
    "#need table with mean, sd, median, mean, min, max for each variable\n",
    "\n",
    "#Dataset 2: "
   ]
  },
  {
   "cell_type": "code",
   "execution_count": null,
   "metadata": {},
   "outputs": [],
   "source": [
    "from sklearn.ensemble import RandomForestRegressor\n",
    "from sklearn.model_selection import train_test_split\n",
    "from sklearn.compose import ColumnTransformer\n",
    "from sklearn.pipeline import Pipeline\n",
    "from sklearn.preprocessing import OneHotEncoder\n",
    "#start with something simpler? Logistic regression\n",
    "\n",
    "#Model creation (Random Forest Regression) and Data Split + Pipeline\n",
    "\n",
    "\n",
    "# Preprocessing pipeline\n",
    "preprocessor1 = ColumnTransformer(\n",
    "    transformers=[\n",
    "        ('cat', OneHotEncoder(drop='first', handle_unknown='ignore'), categorical_features1)\n",
    "    ],\n",
    "    remainder='passthrough'  # Keep numerical features as they are\n",
    ")\n",
    "\n",
    "# Full pipeline with Random Forest\n",
    "pipeline1 = Pipeline(steps=[\n",
    "    ('preprocessing', preprocessor1),\n",
    "    ('regressor', RandomForestRegressor(n_estimators=100, random_state=42))\n",
    "])\n",
    "\n"
   ]
  },
  {
   "cell_type": "code",
   "execution_count": null,
   "metadata": {},
   "outputs": [],
   "source": [
    "#Model Training\n"
   ]
  },
  {
   "cell_type": "code",
   "execution_count": null,
   "metadata": {},
   "outputs": [],
   "source": [
    "#Results\n",
    "from sklearn.metrics import mean_squared_error, r2_score\n",
    "\n",
    "#Heatmap + scatterplot (each feature)\n",
    "#TSNE?"
   ]
  },
  {
   "cell_type": "code",
   "execution_count": null,
   "metadata": {},
   "outputs": [],
   "source": [
    "#Feature Analysis\n",
    "#shap feature analysis"
   ]
  }
 ],
 "metadata": {
  "kernelspec": {
   "display_name": "base",
   "language": "python",
   "name": "python3"
  },
  "language_info": {
   "codemirror_mode": {
    "name": "ipython",
    "version": 3
   },
   "file_extension": ".py",
   "mimetype": "text/x-python",
   "name": "python",
   "nbconvert_exporter": "python",
   "pygments_lexer": "ipython3",
   "version": "3.12.7"
  }
 },
 "nbformat": 4,
 "nbformat_minor": 2
}
