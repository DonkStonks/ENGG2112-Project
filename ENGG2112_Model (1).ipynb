{
 "cells": [
  {
   "cell_type": "markdown",
   "metadata": {},
   "source": [
    "Changelog: Please enter your name, the date, and a quick summary of any changes made\n",
    "\n",
    "Ben Acuna : 30.4.2025 : Initial set-up and Dataset 1 Preprocessing"
   ]
  },
  {
   "cell_type": "code",
   "execution_count": 42,
   "metadata": {},
   "outputs": [],
   "source": [
    "#Data import and processing\n",
    "import numpy as np\n",
    "import pandas as pd\n",
    "\n",
    "#not sure if we want to scale features at this point?\n",
    "#from sklearn.preprocessing import StandardScaler\n",
    "\n",
    "##Dataset 1: India xAgriculture Crop Production\n",
    "df1 = pd.read_csv('India Agriculture Crop Production.csv')\n",
    "df1 = df1.dropna()\n",
    "\n",
    "X1 = df1.drop(['Yield', 'Production', 'Production Units', 'Area Units'], axis = 1)\n",
    "Y1 = df1['Yield']\n",
    "\n",
    "#One-Hot-Encoding Dataset 1\n",
    "categorical_features1 = X1.select_dtypes(include=['object', 'category']).columns.tolist()\n",
    "numerical_features1 = X1.select_dtypes(exclude=['object', 'category']).columns.tolist()\n",
    "\n",
    "#need table with mean, sd, median, mean, min, max for each variable\n",
    "\n",
    "#Dataset 2: \n",
    "df2 = pd.read_csv('usa.csv')\n",
    "df2 = df2.dropna()\n",
    "\n",
    "X2 = df2.drop(['Grain_yield_kg_ha', 'PCPN_mm_d', ], axis = 1)\n",
    "Y2 = df2['Grain_yield_kg_ha']\n",
    "\n",
    "#One-Hot-Encoding Dataset 2\n",
    "categorical_features2 = X2.select_dtypes(include=['object', 'category']).columns.tolist()\n",
    "numerical_features2 = X2.select_dtypes(exclude=['object', 'category']).columns.tolist()\n"
   ]
  },
  {
   "cell_type": "code",
   "execution_count": 43,
   "metadata": {},
   "outputs": [],
   "source": [
    "from sklearn.ensemble import RandomForestRegressor\n",
    "from sklearn.linear_model import LogisticRegression\n",
    "from sklearn.model_selection import train_test_split\n",
    "from sklearn.compose import ColumnTransformer\n",
    "from sklearn.pipeline import Pipeline\n",
    "from sklearn.preprocessing import OneHotEncoder\n",
    "from sklearn.metrics import accuracy_score, classification_report"
   ]
  },
  {
   "cell_type": "code",
   "execution_count": 44,
   "metadata": {},
   "outputs": [
    {
     "name": "stderr",
     "output_type": "stream",
     "text": [
      "/opt/conda/envs/anaconda-panel-2023.05-py310/lib/python3.11/site-packages/sklearn/preprocessing/_encoders.py:227: UserWarning: Found unknown categories in columns [1] during transform. These unknown categories will be encoded as all zeros\n",
      "  warnings.warn(\n"
     ]
    },
    {
     "name": "stdout",
     "output_type": "stream",
     "text": [
      "Accuracy: 0.337233782129743\n"
     ]
    },
    {
     "name": "stderr",
     "output_type": "stream",
     "text": [
      "/opt/conda/envs/anaconda-panel-2023.05-py310/lib/python3.11/site-packages/sklearn/metrics/_classification.py:1469: UndefinedMetricWarning: Precision and F-score are ill-defined and being set to 0.0 in labels with no predicted samples. Use `zero_division` parameter to control this behavior.\n",
      "  _warn_prf(average, modifier, msg_start, len(result))\n",
      "/opt/conda/envs/anaconda-panel-2023.05-py310/lib/python3.11/site-packages/sklearn/metrics/_classification.py:1469: UndefinedMetricWarning: Precision and F-score are ill-defined and being set to 0.0 in labels with no predicted samples. Use `zero_division` parameter to control this behavior.\n",
      "  _warn_prf(average, modifier, msg_start, len(result))\n"
     ]
    },
    {
     "name": "stdout",
     "output_type": "stream",
     "text": [
      "\n",
      "Classification Report:\n",
      "               precision    recall  f1-score   support\n",
      "\n",
      "        High       0.34      1.00      0.50     34440\n",
      "         Low       0.00      0.00      0.00     33941\n",
      "      Medium       0.00      0.00      0.00     33744\n",
      "\n",
      "    accuracy                           0.34    102125\n",
      "   macro avg       0.11      0.33      0.17    102125\n",
      "weighted avg       0.11      0.34      0.17    102125\n",
      "\n"
     ]
    },
    {
     "name": "stderr",
     "output_type": "stream",
     "text": [
      "/opt/conda/envs/anaconda-panel-2023.05-py310/lib/python3.11/site-packages/sklearn/metrics/_classification.py:1469: UndefinedMetricWarning: Precision and F-score are ill-defined and being set to 0.0 in labels with no predicted samples. Use `zero_division` parameter to control this behavior.\n",
      "  _warn_prf(average, modifier, msg_start, len(result))\n"
     ]
    }
   ],
   "source": [
    "#start with something simpler? Logistic regression\n",
    "\n",
    "# Bin Yield into categories (based on quantiles or your own thresholds)\n",
    "low_thresh = df1['Yield'].quantile(0.33)\n",
    "high_thresh = df1['Yield'].quantile(0.66)\n",
    "\n",
    "def categorize_yield(y):\n",
    "    if y <= low_thresh:\n",
    "        return 'Low'\n",
    "    elif y <= high_thresh:\n",
    "        return 'Medium'\n",
    "    else:\n",
    "        return 'High'\n",
    "\n",
    "df1['Yield_Category'] = df1['Yield'].apply(categorize_yield)\n",
    "\n",
    "\n",
    "# Assume 'Yield_Category' was already created\n",
    "X1 = df1.drop(['Yield', 'Yield_Category', 'Production', 'Production Units', 'Area Units'], axis=1)\n",
    "Y1 = df1['Yield_Category']\n",
    "\n",
    "# Define categorical feature list again (if needed)\n",
    "categorical_features1 = X1.select_dtypes(include=['object', 'category']).columns.tolist()\n",
    "\n",
    "# Preprocessing pipeline\n",
    "preprocessor1 = ColumnTransformer(\n",
    "    transformers=[\n",
    "        ('cat', OneHotEncoder(drop='first', handle_unknown='ignore'), categorical_features1)\n",
    "    ],\n",
    "    remainder='passthrough'\n",
    ")\n",
    "\n",
    "# Full pipeline with Logistic Regression instead of Random Forest\n",
    "pipeline1 = Pipeline(steps=[\n",
    "    ('preprocessing', preprocessor1),\n",
    "    ('classifier', LogisticRegression(max_iter=500))\n",
    "])\n",
    "\n",
    "# Split data\n",
    "X_train, X_test, y_train, y_test = train_test_split(X1, Y1, test_size=0.3, random_state=42)\n",
    "\n",
    "# Train model\n",
    "pipeline1.fit(X_train, y_train)\n",
    "\n",
    "# Predict and evaluate\n",
    "y_pred = pipeline1.predict(X_test)\n",
    "print(\"Accuracy:\", accuracy_score(y_test, y_pred))\n",
    "print(\"\\nClassification Report:\\n\", classification_report(y_test, y_pred))\n"
   ]
  },
  {
   "cell_type": "code",
   "execution_count": 45,
   "metadata": {},
   "outputs": [
    {
     "name": "stdout",
     "output_type": "stream",
     "text": [
      "Accuracy: 0.8333333333333334\n",
      "\n",
      "Classification Report:\n",
      "               precision    recall  f1-score   support\n",
      "\n",
      "        High       0.93      0.82      0.87        17\n",
      "         Low       0.83      0.95      0.88        20\n",
      "      Medium       0.75      0.71      0.73        17\n",
      "\n",
      "    accuracy                           0.83        54\n",
      "   macro avg       0.84      0.83      0.83        54\n",
      "weighted avg       0.84      0.83      0.83        54\n",
      "\n"
     ]
    },
    {
     "name": "stderr",
     "output_type": "stream",
     "text": [
      "/opt/conda/envs/anaconda-panel-2023.05-py310/lib/python3.11/site-packages/sklearn/linear_model/_logistic.py:460: ConvergenceWarning: lbfgs failed to converge (status=1):\n",
      "STOP: TOTAL NO. of ITERATIONS REACHED LIMIT.\n",
      "\n",
      "Increase the number of iterations (max_iter) or scale the data as shown in:\n",
      "    https://scikit-learn.org/stable/modules/preprocessing.html\n",
      "Please also refer to the documentation for alternative solver options:\n",
      "    https://scikit-learn.org/stable/modules/linear_model.html#logistic-regression\n",
      "  n_iter_i = _check_optimize_result(\n"
     ]
    }
   ],
   "source": [
    "#start with something simpler? Logistic regression\n",
    "\n",
    "# Bin Yield into categories (based on quantiles or your own thresholds)\n",
    "low_thresh = df2['Grain_yield_kg_ha'].quantile(0.33)\n",
    "high_thresh = df2['Grain_yield_kg_ha'].quantile(0.66)\n",
    "\n",
    "def categorize_yield(y):\n",
    "    if y <= low_thresh:\n",
    "        return 'Low'\n",
    "    elif y <= high_thresh:\n",
    "        return 'Medium'\n",
    "    else:\n",
    "        return 'High'\n",
    "\n",
    "df2['Yield_Category_kg_ha'] = df2['Grain_yield_kg_ha'].apply(categorize_yield)\n",
    "\n",
    "\n",
    "# Assume 'Yield_Category' was already created\n",
    "X2 = df2.drop(['Grain_yield_kg_ha', 'Yield_Category_kg_ha', 'PCPN_mm_d', ], axis = 1)\n",
    "Y2 = df2['Yield_Category_kg_ha']\n",
    "\n",
    "\n",
    "# Define categorical feature list again (if needed)\n",
    "categorical_features1 = X2.select_dtypes(include=['object', 'category']).columns.tolist()\n",
    "\n",
    "# Preprocessing pipeline\n",
    "preprocessor1 = ColumnTransformer(\n",
    "    transformers=[\n",
    "        ('cat', OneHotEncoder(drop='first', handle_unknown='ignore'), categorical_features1)\n",
    "    ],\n",
    "    remainder='passthrough'\n",
    ")\n",
    "\n",
    "# Full pipeline with Logistic Regression instead of Random Forest\n",
    "pipeline1 = Pipeline(steps=[\n",
    "    ('preprocessing', preprocessor1),\n",
    "    ('classifier', LogisticRegression(max_iter=500))\n",
    "])\n",
    "\n",
    "# Split data\n",
    "X_train, X_test, y_train, y_test = train_test_split(X2, Y2, test_size=0.3, random_state=42)\n",
    "\n",
    "# Train model\n",
    "pipeline1.fit(X_train, y_train)\n",
    "\n",
    "# Predict and evaluate\n",
    "y_pred = pipeline1.predict(X_test)\n",
    "print(\"Accuracy:\", accuracy_score(y_test, y_pred))\n",
    "print(\"\\nClassification Report:\\n\", classification_report(y_test, y_pred))\n"
   ]
  },
  {
   "cell_type": "code",
   "execution_count": null,
   "metadata": {},
   "outputs": [],
   "source": [
    "#Model creation (Random Forest Regression) and Data Split + Pipeline\n",
    "\n",
    "\n",
    "# Preprocessing pipeline\n",
    "preprocessor1 = ColumnTransformer(\n",
    "    transformers=[\n",
    "        ('cat', OneHotEncoder(drop='first', handle_unknown='ignore'), categorical_features1)\n",
    "    ],\n",
    "    remainder='passthrough'  # Keep numerical features as they are\n",
    ")\n",
    "\n",
    "# Full pipeline with Random Forest\n",
    "pipeline1 = Pipeline(steps=[\n",
    "    ('preprocessing', preprocessor1),\n",
    "    ('regressor', RandomForestRegressor(n_estimators=100, random_state=42))\n",
    "])\n",
    "\n"
   ]
  },
  {
   "cell_type": "code",
   "execution_count": null,
   "metadata": {},
   "outputs": [],
   "source": [
    "#Model Training\n"
   ]
  },
  {
   "cell_type": "code",
   "execution_count": null,
   "metadata": {},
   "outputs": [],
   "source": [
    "#Results\n",
    "from sklearn.metrics import mean_squared_error, r2_score\n",
    "\n",
    "#Heatmap + scatterplot (each feature)\n",
    "#TSNE?"
   ]
  },
  {
   "cell_type": "code",
   "execution_count": null,
   "metadata": {},
   "outputs": [],
   "source": [
    "#Feature Analysis\n",
    "#shap feature analysis"
   ]
  }
 ],
 "metadata": {
  "kernelspec": {
   "display_name": "anaconda-panel-2023.05-py310",
   "language": "python",
   "name": "conda-env-anaconda-panel-2023.05-py310-py"
  },
  "language_info": {
   "codemirror_mode": {
    "name": "ipython",
    "version": 3
   },
   "file_extension": ".py",
   "mimetype": "text/x-python",
   "name": "python",
   "nbconvert_exporter": "python",
   "pygments_lexer": "ipython3",
   "version": "3.11.5"
  }
 },
 "nbformat": 4,
 "nbformat_minor": 4
}
