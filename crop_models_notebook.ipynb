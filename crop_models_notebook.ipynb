{
 "cells": [
  {
   "cell_type": "markdown",
   "id": "63f590db",
   "metadata": {},
   "source": [
    "# Crop Recommendation ML Models\n",
    "\n",
    "This notebook trains and evaluates 5 regression models on the cleaned crop dataset:\n",
    "- Linear Regression\n",
    "- MLP Regressor\n",
    "- Gradient Boosting\n",
    "- Random Forest\n",
    "- Decision Tree\n",
    "\n",
    "Each model will report training time, MSE, and RMSE."
   ]
  },
  {
   "cell_type": "code",
   "execution_count": 18,
   "id": "8b221c3b",
   "metadata": {},
   "outputs": [],
   "source": [
    "import pandas as pd\n",
    "from sklearn.model_selection import train_test_split\n",
    "from sklearn.linear_model import LinearRegression\n",
    "from sklearn.neural_network import MLPRegressor\n",
    "from sklearn.ensemble import GradientBoostingRegressor, RandomForestRegressor\n",
    "from sklearn.tree import DecisionTreeRegressor\n",
    "from sklearn.metrics import mean_squared_error\n",
    "import time\n",
    "import numpy as np"
   ]
  },
  {
   "cell_type": "code",
   "execution_count": 19,
   "id": "b36c47da",
   "metadata": {},
   "outputs": [],
   "source": [
    "# Load data\n",
    "df = pd.read_csv('./datasets/h5-i2_2016-2021_daily_harvest_cleaned.csv')\n",
    "\n",
    "cat_cols = ['Crop', 'Treatment', 'Site', 'FIeld']\n",
    "df = pd.get_dummies(df, columns=cat_cols, drop_first=True)\n",
    "\n",
    "X = df.drop('Grain_yield_kg_ha', axis=1)\n",
    "y = df['Grain_yield_kg_ha']\n",
    "\n",
    "# Train/test split\n",
    "X_train, X_test, y_train, y_test = train_test_split(\n",
    "    X, y, test_size=0.2, random_state=42\n",
    ")"
   ]
  },
  {
   "cell_type": "code",
   "execution_count": 20,
   "id": "e4eb36e1",
   "metadata": {},
   "outputs": [
    {
     "data": {
      "text/html": [
       "<div>\n",
       "<style scoped>\n",
       "    .dataframe tbody tr th:only-of-type {\n",
       "        vertical-align: middle;\n",
       "    }\n",
       "\n",
       "    .dataframe tbody tr th {\n",
       "        vertical-align: top;\n",
       "    }\n",
       "\n",
       "    .dataframe thead th {\n",
       "        text-align: right;\n",
       "    }\n",
       "</style>\n",
       "<table border=\"1\" class=\"dataframe\">\n",
       "  <thead>\n",
       "    <tr style=\"text-align: right;\">\n",
       "      <th></th>\n",
       "      <th>Model</th>\n",
       "      <th>TrainTime</th>\n",
       "      <th>MSE</th>\n",
       "      <th>RMSE</th>\n",
       "    </tr>\n",
       "  </thead>\n",
       "  <tbody>\n",
       "    <tr>\n",
       "      <th>0</th>\n",
       "      <td>LinearRegression</td>\n",
       "      <td>0.007155</td>\n",
       "      <td>0.078020</td>\n",
       "      <td>0.279320</td>\n",
       "    </tr>\n",
       "    <tr>\n",
       "      <th>1</th>\n",
       "      <td>MLPRegressor</td>\n",
       "      <td>0.170077</td>\n",
       "      <td>2117.863255</td>\n",
       "      <td>46.020248</td>\n",
       "    </tr>\n",
       "    <tr>\n",
       "      <th>2</th>\n",
       "      <td>GradientBoosting</td>\n",
       "      <td>0.077992</td>\n",
       "      <td>0.000072</td>\n",
       "      <td>0.008471</td>\n",
       "    </tr>\n",
       "    <tr>\n",
       "      <th>3</th>\n",
       "      <td>RandomForest</td>\n",
       "      <td>0.117144</td>\n",
       "      <td>0.000018</td>\n",
       "      <td>0.004193</td>\n",
       "    </tr>\n",
       "    <tr>\n",
       "      <th>4</th>\n",
       "      <td>DecisionTree</td>\n",
       "      <td>0.000000</td>\n",
       "      <td>0.000006</td>\n",
       "      <td>0.002346</td>\n",
       "    </tr>\n",
       "  </tbody>\n",
       "</table>\n",
       "</div>"
      ],
      "text/plain": [
       "              Model  TrainTime          MSE       RMSE\n",
       "0  LinearRegression   0.007155     0.078020   0.279320\n",
       "1      MLPRegressor   0.170077  2117.863255  46.020248\n",
       "2  GradientBoosting   0.077992     0.000072   0.008471\n",
       "3      RandomForest   0.117144     0.000018   0.004193\n",
       "4      DecisionTree   0.000000     0.000006   0.002346"
      ]
     },
     "execution_count": 20,
     "metadata": {},
     "output_type": "execute_result"
    }
   ],
   "source": [
    "models = {\n",
    "    'LinearRegression': LinearRegression(),\n",
    "    'MLPRegressor': MLPRegressor(max_iter=500, random_state=42),\n",
    "    'GradientBoosting': GradientBoostingRegressor(random_state=42),\n",
    "    'RandomForest': RandomForestRegressor(random_state=42),\n",
    "    'DecisionTree': DecisionTreeRegressor(random_state=42)\n",
    "}\n",
    "\n",
    "results = []\n",
    "for name, model in models.items():\n",
    "    start = time.time()\n",
    "    y_train = np.log1p(y_train)\n",
    "    y_test  = np.log1p(y_test)\n",
    "    model.fit(X_train, y_train)\n",
    "    train_time = time.time() - start\n",
    "    preds = model.predict(X_test)\n",
    "    mse = mean_squared_error(y_test, preds)\n",
    "    rmse = mse ** 0.5\n",
    "    results.append((name, train_time, mse, rmse))\n",
    "\n",
    "results_df = pd.DataFrame(\n",
    "    results,\n",
    "    columns=['Model', 'TrainTime', 'MSE', 'RMSE']\n",
    ")\n",
    "results_df"
   ]
  }
 ],
 "metadata": {
  "kernelspec": {
   "display_name": "Python 3",
   "language": "python",
   "name": "python3"
  },
  "language_info": {
   "codemirror_mode": {
    "name": "ipython",
    "version": 3
   },
   "file_extension": ".py",
   "mimetype": "text/x-python",
   "name": "python",
   "nbconvert_exporter": "python",
   "pygments_lexer": "ipython3",
   "version": "3.11.4"
  }
 },
 "nbformat": 4,
 "nbformat_minor": 5
}
